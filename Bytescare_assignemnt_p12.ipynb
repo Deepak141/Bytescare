{
  "nbformat": 4,
  "nbformat_minor": 0,
  "metadata": {
    "colab": {
      "name": "Bytescare_assignemnt_p12.ipynb",
      "provenance": [],
      "authorship_tag": "ABX9TyOLytpQW7CRGAoQ0Qjxdw3T",
      "include_colab_link": true
    },
    "kernelspec": {
      "name": "python3",
      "display_name": "Python 3"
    }
  },
  "cells": [
    {
      "cell_type": "markdown",
      "metadata": {
        "id": "view-in-github",
        "colab_type": "text"
      },
      "source": [
        "<a href=\"https://colab.research.google.com/github/Deepak141/Bytescare/blob/PersonCLassification/Bytescare_assignemnt_p12.ipynb\" target=\"_parent\"><img src=\"https://colab.research.google.com/assets/colab-badge.svg\" alt=\"Open In Colab\"/></a>"
      ]
    },
    {
      "cell_type": "code",
      "metadata": {
        "id": "IMwjccsotuUg"
      },
      "source": [
        "text='A website (also written as web site) is a collection of web pages and related content that is identified by a common domain name and published on at least one web server. Notable examples are www.wikipedia.org , www.google.com , and www.amazon.com , www.google.com , www.amazon.in , https://bytescare.com '\n"
      ],
      "execution_count": null,
      "outputs": []
    },
    {
      "cell_type": "code",
      "metadata": {
        "id": "Gn4p5UiYv-3r",
        "outputId": "4cfd71f8-a28c-401a-f272-f52f5bb1b674",
        "colab": {
          "base_uri": "https://localhost:8080/",
          "height": 84
        }
      },
      "source": [
        "import nltk\n",
        "nltk.download('punkt')\n",
        "nltk.download('stopwords')\n",
        "from nltk.corpus import stopwords\n",
        "stop_words=stopwords.words('english')"
      ],
      "execution_count": null,
      "outputs": [
        {
          "output_type": "stream",
          "text": [
            "[nltk_data] Downloading package punkt to /root/nltk_data...\n",
            "[nltk_data]   Package punkt is already up-to-date!\n",
            "[nltk_data] Downloading package stopwords to /root/nltk_data...\n",
            "[nltk_data]   Unzipping corpora/stopwords.zip.\n"
          ],
          "name": "stdout"
        }
      ]
    },
    {
      "cell_type": "code",
      "metadata": {
        "id": "VUHEYxXVwydW"
      },
      "source": [
        "ext=['com','in','org','us','net']\n",
        "punct=['.',',',':']"
      ],
      "execution_count": null,
      "outputs": []
    },
    {
      "cell_type": "code",
      "metadata": {
        "id": "CIXAqYM9xXEs"
      },
      "source": [
        "text=text.lower()\n",
        "words=text.split(' ')"
      ],
      "execution_count": null,
      "outputs": []
    },
    {
      "cell_type": "code",
      "metadata": {
        "id": "E7I0wK080Kq8"
      },
      "source": [
        "filt_words=[]\n",
        "for i in words:\n",
        "  if i not in stop_words and i not in punct:\n",
        "    rec=i.split('.')\n",
        "    if rec[-1] in ext and i not in filt_words:\n",
        "      filt_words.append(i)  "
      ],
      "execution_count": null,
      "outputs": []
    },
    {
      "cell_type": "code",
      "metadata": {
        "id": "_lO4kIPK0Kuc",
        "outputId": "2ef86b10-5068-4dd1-8efc-30d445eab123",
        "colab": {
          "base_uri": "https://localhost:8080/",
          "height": 101
        }
      },
      "source": [
        "filt_words"
      ],
      "execution_count": null,
      "outputs": [
        {
          "output_type": "execute_result",
          "data": {
            "text/plain": [
              "['www.wikipedia.org',\n",
              " 'www.google.com',\n",
              " 'www.amazon.com',\n",
              " 'www.amazon.in',\n",
              " 'https://bytescare.com']"
            ]
          },
          "metadata": {
            "tags": []
          },
          "execution_count": 56
        }
      ]
    },
    {
      "cell_type": "code",
      "metadata": {
        "id": "bZwvMkFq5YaA"
      },
      "source": [
        ""
      ],
      "execution_count": null,
      "outputs": []
    }
  ]
}