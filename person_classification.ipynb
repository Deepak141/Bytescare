{
  "nbformat": 4,
  "nbformat_minor": 0,
  "metadata": {
    "colab": {
      "name": "person_classification.ipynb",
      "provenance": [],
      "authorship_tag": "ABX9TyPT8Lv+h0DwHzngqPqso3Wi",
      "include_colab_link": true
    },
    "kernelspec": {
      "name": "python3",
      "display_name": "Python 3"
    },
    "accelerator": "GPU"
  },
  "cells": [
    {
      "cell_type": "markdown",
      "metadata": {
        "id": "view-in-github",
        "colab_type": "text"
      },
      "source": [
        "<a href=\"https://colab.research.google.com/github/Deepak141/Bytescare/blob/PersonCLassification/person_classification.ipynb\" target=\"_parent\"><img src=\"https://colab.research.google.com/assets/colab-badge.svg\" alt=\"Open In Colab\"/></a>"
      ]
    },
    {
      "cell_type": "code",
      "metadata": {
        "id": "KwfZK6ASEd7f"
      },
      "source": [
        "import cv2\n",
        "import os\n",
        "from google.colab.patches import cv2_imshow\n",
        "import numpy as np\n",
        "import re\n"
      ],
      "execution_count": 1,
      "outputs": []
    },
    {
      "cell_type": "code",
      "metadata": {
        "id": "tjLDTylOOkhg",
        "outputId": "a13d0ae2-f012-4a90-9a85-6594423e977f",
        "colab": {
          "base_uri": "https://localhost:8080/",
          "height": 50
        }
      },
      "source": [
        "label=[]\n",
        "t=[]\n",
        "for i in os.listdir('/content/pics'):\n",
        "  ext=i.split('.')\n",
        "  if ext[-1]=='jpg':\n",
        "    image=cv2.imread(f'/content/pics/{i}')\n",
        "    #im=cv2.cvtColor(image,cv2.COLOR_RGB2GRAY)\n",
        "    img=cv2.resize(image,(100,100))\n",
        "    c=ext[0].split('p')\n",
        "    if len(c) == 2:\n",
        "      t.append(img)\n",
        "      label.append(0)\n",
        "    else:\n",
        "      t.append(img)\n",
        "      label.append(1)\n",
        "print(len(t))\n",
        "print(len(label))"
      ],
      "execution_count": 109,
      "outputs": [
        {
          "output_type": "stream",
          "text": [
            "21\n",
            "21\n"
          ],
          "name": "stdout"
        }
      ]
    },
    {
      "cell_type": "code",
      "metadata": {
        "id": "o6aCCrZpFa3r"
      },
      "source": [
        "img_data = np.array(t)\n",
        "img_data = img_data.astype('float32')\n",
        "img_data /= 255\n"
      ],
      "execution_count": 110,
      "outputs": []
    },
    {
      "cell_type": "code",
      "metadata": {
        "id": "9YXWOLgMZwue"
      },
      "source": [
        "from sklearn.model_selection import train_test_split\n",
        "from sklearn.utils import shuffle\n",
        "from keras.utils.np_utils import to_categorical"
      ],
      "execution_count": 111,
      "outputs": []
    },
    {
      "cell_type": "code",
      "metadata": {
        "id": "BhfmlAaYOkOg"
      },
      "source": [
        "labels = np.array(label)\n",
        "Y = to_categorical(labels, 2)"
      ],
      "execution_count": 112,
      "outputs": []
    },
    {
      "cell_type": "code",
      "metadata": {
        "id": "xq675EORFbV5"
      },
      "source": [
        "X_train, X_test, y_train, y_test = train_test_split(img_data, Y, test_size=0.2, random_state=1)\n",
        "X_train = X_train.reshape(-1,100, 100, 3) \n",
        "X_test = X_test.reshape(-1,100, 100, 3)"
      ],
      "execution_count": 113,
      "outputs": []
    },
    {
      "cell_type": "code",
      "metadata": {
        "id": "c4Yyi5mlHMlk"
      },
      "source": [
        "from tensorflow import keras\n",
        "from keras import backend as K\n",
        "from keras.models import Sequential\n",
        "from keras.layers.core import Dense, Dropout, Activation, Flatten\n",
        "from keras.layers.convolutional import Conv2D, MaxPooling2D\n",
        "from keras.optimizers import Adam"
      ],
      "execution_count": 114,
      "outputs": []
    },
    {
      "cell_type": "code",
      "metadata": {
        "id": "7ELQp7_XY_kc"
      },
      "source": [
        "model=Sequential()\n",
        "model.add(Conv2D(32,(3,3),input_shape=(100,100,3)))\n",
        "model.add(Activation('relu'))\n",
        "model.add(MaxPooling2D(pool_size=(2, 2)))\n",
        "model.add(Conv2D(16, (3, 3)))\n",
        "model.add(Activation('relu'))\n",
        "model.add(MaxPooling2D(pool_size=(2, 2)))\n",
        "\n",
        "model.add(Flatten())\n",
        "model.add(Dense(200))\n",
        "model.add(Activation('relu'))\n",
        "model.add(Dropout(0.2))\n",
        "model.add(Dense(2))\n",
        "model.add(Activation('sigmoid'))\n",
        "model.compile(loss='binary_crossentropy', optimizer='adam',metrics=[\"accuracy\"])"
      ],
      "execution_count": 115,
      "outputs": []
    },
    {
      "cell_type": "code",
      "metadata": {
        "id": "CIEao0IpbZ78",
        "outputId": "8c66843a-2e78-4e9a-878d-1b9c156c0869",
        "colab": {
          "base_uri": "https://localhost:8080/",
          "height": 1000
        }
      },
      "source": [
        "hist = model.fit(X_train, y_train,epochs=40,validation_split=0.1)"
      ],
      "execution_count": 116,
      "outputs": [
        {
          "output_type": "stream",
          "text": [
            "Epoch 1/40\n",
            "1/1 [==============================] - 0s 119ms/step - loss: 0.7555 - accuracy: 0.4286 - val_loss: 1.0478 - val_accuracy: 0.5000\n",
            "Epoch 2/40\n",
            "1/1 [==============================] - 0s 18ms/step - loss: 0.7492 - accuracy: 0.5714 - val_loss: 0.8421 - val_accuracy: 0.5000\n",
            "Epoch 3/40\n",
            "1/1 [==============================] - 0s 23ms/step - loss: 0.6116 - accuracy: 0.5714 - val_loss: 0.6826 - val_accuracy: 0.5000\n",
            "Epoch 4/40\n",
            "1/1 [==============================] - 0s 18ms/step - loss: 0.5823 - accuracy: 0.5714 - val_loss: 0.6584 - val_accuracy: 0.5000\n",
            "Epoch 5/40\n",
            "1/1 [==============================] - 0s 17ms/step - loss: 0.5328 - accuracy: 1.0000 - val_loss: 0.6609 - val_accuracy: 0.5000\n",
            "Epoch 6/40\n",
            "1/1 [==============================] - 0s 17ms/step - loss: 0.4280 - accuracy: 1.0000 - val_loss: 0.7333 - val_accuracy: 0.5000\n",
            "Epoch 7/40\n",
            "1/1 [==============================] - 0s 18ms/step - loss: 0.3985 - accuracy: 0.9286 - val_loss: 0.8587 - val_accuracy: 0.5000\n",
            "Epoch 8/40\n",
            "1/1 [==============================] - 0s 17ms/step - loss: 0.3176 - accuracy: 0.9286 - val_loss: 0.9191 - val_accuracy: 0.5000\n",
            "Epoch 9/40\n",
            "1/1 [==============================] - 0s 20ms/step - loss: 0.2677 - accuracy: 0.9286 - val_loss: 0.7134 - val_accuracy: 0.5000\n",
            "Epoch 10/40\n",
            "1/1 [==============================] - 0s 18ms/step - loss: 0.2033 - accuracy: 1.0000 - val_loss: 0.8410 - val_accuracy: 0.5000\n",
            "Epoch 11/40\n",
            "1/1 [==============================] - 0s 18ms/step - loss: 0.1168 - accuracy: 1.0000 - val_loss: 1.2605 - val_accuracy: 0.5000\n",
            "Epoch 12/40\n",
            "1/1 [==============================] - 0s 18ms/step - loss: 0.1048 - accuracy: 1.0000 - val_loss: 1.3914 - val_accuracy: 0.5000\n",
            "Epoch 13/40\n",
            "1/1 [==============================] - 0s 18ms/step - loss: 0.0875 - accuracy: 1.0000 - val_loss: 1.1200 - val_accuracy: 0.5000\n",
            "Epoch 14/40\n",
            "1/1 [==============================] - 0s 20ms/step - loss: 0.0416 - accuracy: 1.0000 - val_loss: 0.9265 - val_accuracy: 0.5000\n",
            "Epoch 15/40\n",
            "1/1 [==============================] - 0s 19ms/step - loss: 0.0452 - accuracy: 1.0000 - val_loss: 1.0180 - val_accuracy: 0.5000\n",
            "Epoch 16/40\n",
            "1/1 [==============================] - 0s 18ms/step - loss: 0.0376 - accuracy: 1.0000 - val_loss: 1.6849 - val_accuracy: 0.5000\n",
            "Epoch 17/40\n",
            "1/1 [==============================] - 0s 18ms/step - loss: 0.0334 - accuracy: 1.0000 - val_loss: 1.9682 - val_accuracy: 0.5000\n",
            "Epoch 18/40\n",
            "1/1 [==============================] - 0s 21ms/step - loss: 0.0216 - accuracy: 1.0000 - val_loss: 1.9712 - val_accuracy: 0.5000\n",
            "Epoch 19/40\n",
            "1/1 [==============================] - 0s 18ms/step - loss: 0.0109 - accuracy: 1.0000 - val_loss: 1.8110 - val_accuracy: 0.5000\n",
            "Epoch 20/40\n",
            "1/1 [==============================] - 0s 17ms/step - loss: 0.0038 - accuracy: 1.0000 - val_loss: 1.6049 - val_accuracy: 0.5000\n",
            "Epoch 21/40\n",
            "1/1 [==============================] - 0s 16ms/step - loss: 0.0074 - accuracy: 1.0000 - val_loss: 1.6429 - val_accuracy: 0.5000\n",
            "Epoch 22/40\n",
            "1/1 [==============================] - 0s 17ms/step - loss: 0.0057 - accuracy: 1.0000 - val_loss: 1.8599 - val_accuracy: 0.5000\n",
            "Epoch 23/40\n",
            "1/1 [==============================] - 0s 19ms/step - loss: 0.0045 - accuracy: 1.0000 - val_loss: 2.3002 - val_accuracy: 0.5000\n",
            "Epoch 24/40\n",
            "1/1 [==============================] - 0s 16ms/step - loss: 0.0023 - accuracy: 1.0000 - val_loss: 2.6436 - val_accuracy: 0.5000\n",
            "Epoch 25/40\n",
            "1/1 [==============================] - 0s 18ms/step - loss: 0.0036 - accuracy: 1.0000 - val_loss: 2.8739 - val_accuracy: 0.5000\n",
            "Epoch 26/40\n",
            "1/1 [==============================] - 0s 17ms/step - loss: 0.0015 - accuracy: 1.0000 - val_loss: 3.0102 - val_accuracy: 0.5000\n",
            "Epoch 27/40\n",
            "1/1 [==============================] - 0s 17ms/step - loss: 0.0015 - accuracy: 1.0000 - val_loss: 3.0591 - val_accuracy: 0.5000\n",
            "Epoch 28/40\n",
            "1/1 [==============================] - 0s 16ms/step - loss: 4.1788e-04 - accuracy: 1.0000 - val_loss: 3.0262 - val_accuracy: 0.5000\n",
            "Epoch 29/40\n",
            "1/1 [==============================] - 0s 20ms/step - loss: 5.0331e-04 - accuracy: 1.0000 - val_loss: 2.9835 - val_accuracy: 0.5000\n",
            "Epoch 30/40\n",
            "1/1 [==============================] - 0s 19ms/step - loss: 1.0857e-04 - accuracy: 1.0000 - val_loss: 2.9105 - val_accuracy: 0.5000\n",
            "Epoch 31/40\n",
            "1/1 [==============================] - 0s 18ms/step - loss: 2.2970e-04 - accuracy: 1.0000 - val_loss: 2.8117 - val_accuracy: 0.5000\n",
            "Epoch 32/40\n",
            "1/1 [==============================] - 0s 22ms/step - loss: 1.6190e-04 - accuracy: 1.0000 - val_loss: 2.7264 - val_accuracy: 0.5000\n",
            "Epoch 33/40\n",
            "1/1 [==============================] - 0s 18ms/step - loss: 0.0022 - accuracy: 1.0000 - val_loss: 2.5525 - val_accuracy: 0.5000\n",
            "Epoch 34/40\n",
            "1/1 [==============================] - 0s 16ms/step - loss: 6.2880e-04 - accuracy: 1.0000 - val_loss: 2.5377 - val_accuracy: 0.5000\n",
            "Epoch 35/40\n",
            "1/1 [==============================] - 0s 19ms/step - loss: 5.8938e-04 - accuracy: 1.0000 - val_loss: 2.6968 - val_accuracy: 0.5000\n",
            "Epoch 36/40\n",
            "1/1 [==============================] - 0s 19ms/step - loss: 4.2408e-04 - accuracy: 1.0000 - val_loss: 2.9176 - val_accuracy: 0.5000\n",
            "Epoch 37/40\n",
            "1/1 [==============================] - 0s 17ms/step - loss: 2.3935e-04 - accuracy: 1.0000 - val_loss: 3.1537 - val_accuracy: 0.5000\n",
            "Epoch 38/40\n",
            "1/1 [==============================] - 0s 16ms/step - loss: 1.2041e-04 - accuracy: 1.0000 - val_loss: 3.3540 - val_accuracy: 0.5000\n",
            "Epoch 39/40\n",
            "1/1 [==============================] - 0s 16ms/step - loss: 7.4585e-04 - accuracy: 1.0000 - val_loss: 3.6749 - val_accuracy: 0.5000\n",
            "Epoch 40/40\n",
            "1/1 [==============================] - 0s 16ms/step - loss: 1.0818e-04 - accuracy: 1.0000 - val_loss: 3.9478 - val_accuracy: 0.5000\n"
          ],
          "name": "stdout"
        }
      ]
    },
    {
      "cell_type": "code",
      "metadata": {
        "id": "SnaxnixEt3N-"
      },
      "source": [
        "model.save('train.h5')"
      ],
      "execution_count": 117,
      "outputs": []
    },
    {
      "cell_type": "code",
      "metadata": {
        "id": "vHLNZIn-t_K4"
      },
      "source": [
        ""
      ],
      "execution_count": 117,
      "outputs": []
    },
    {
      "cell_type": "code",
      "metadata": {
        "id": "ycigQBs4HbkE",
        "outputId": "dc39302c-dc03-4488-a79f-4b7d15c30887",
        "colab": {
          "base_uri": "https://localhost:8080/",
          "height": 34
        }
      },
      "source": [
        "model.predict_classes(X_test)\n"
      ],
      "execution_count": 118,
      "outputs": [
        {
          "output_type": "execute_result",
          "data": {
            "text/plain": [
              "array([0, 1, 0, 0, 1])"
            ]
          },
          "metadata": {
            "tags": []
          },
          "execution_count": 118
        }
      ]
    },
    {
      "cell_type": "code",
      "metadata": {
        "id": "P-8FPexGROdn",
        "outputId": "3a290734-5093-4808-b4cc-43890e77d737",
        "colab": {
          "base_uri": "https://localhost:8080/",
          "height": 34
        }
      },
      "source": [
        "loss, accuracy = model.evaluate(X_test, y_test, verbose=1)"
      ],
      "execution_count": 119,
      "outputs": [
        {
          "output_type": "stream",
          "text": [
            "1/1 [==============================] - 0s 1ms/step - loss: 0.0018 - accuracy: 1.0000\n"
          ],
          "name": "stdout"
        }
      ]
    }
  ]
}